{
 "cells": [
  {
   "cell_type": "markdown",
   "metadata": {},
   "source": [
    "# Hello everyone in this kenel we will learn together Tensorflow and Tensorflow tools"
   ]
  },
  {
   "attachments": {
    "images.jpg": {
     "image/jpeg": "[encoded data removed]"
    }
   },
   "cell_type": "markdown",
   "metadata": {},
   "source": [
    "![images.jpg](attachment:images.jpg)"
   ]
  },
  {
   "cell_type": "markdown",
   "metadata": {},
   "source": [
    "We will go through this Nootebook via following items 👇\n",
    "\n",
    "1. TensorFlow Overview\n",
    "2. Session\n",
    "3. Constants\n",
    "4. Variables\n",
    "5. Placeholders\n",
    "6. Operations\n",
    "7. Graph"
   ]
  },
  {
   "cell_type": "markdown",
   "metadata": {},
   "source": [
    "# Now let's take fast overview about tensorflow."
   ]
  },
  {
   "cell_type": "markdown",
   "metadata": {},
   "source": [
    "\n",
    "# 1. tensorflow Overview\n",
    "<br>\n",
    "\n",
    "tensorflow is consist of two words ➡ tensor ➕ flow.<br><br>\n",
    "**Tensor :** refer to a matrix of numbers consist of (nxn) dimensions.<br>\n",
    "**Flow :** refer to graph that contain computational operations on tensors.<br>\n",
    "\n",
    "<div>\n",
    "    <img src='https://miro.medium.com/max/1594/1*EHugUlJHdFnUecICP8DM9Q.png' style=\"float:left\">\n",
    "</div>\n",
    "<div style=\"clear:both\"></div>\n",
    "<br><br>\n",
    "As we said that **graph** contain all computational operations on tensors for this graph consist of two elements.<br><br>\n",
    "\n",
    "**Edges :** refere to data flow or tensors. <br>\n",
    "**Nodes :** refere to computational operations.<br><br>\n",
    "\n",
    "<div>\n",
    "    <img src='https://static.packt-cdn.com/products/9781786468574/graphics/image_01_006.jpg' width= 400 style=\"float:left\">\n",
    "</div>\n",
    "<div style=\"clear:both\"></div>\n",
    "\n",
    "<br>\n",
    "\n",
    "There is important term called **Rank** that refere to dimensions of data into tensors. let's see 👇<br>\n",
    "\n",
    "* Rank 0 : refer to tensor that contain singel value.\n",
    "* Rank 1 : refer to tensor that contain a vector (1x1) dimension\n",
    "* Rank 2 : refer to tensor that contain a 2D matrix\n",
    "* Rank 3 : refer to tensor that contain a 3D matrix\n",
    "* Rank n : refer to tensor that contain a nD matrix\n",
    "\n",
    "<div>\n",
    "    <img src='https://miro.medium.com/max/1000/0*jGB1CGQ9HdeUwlgB' style=\"float:left\">\n",
    "</div>\n",
    "<div style=\"clear:both\"></div>\n",
    "\n",
    "<hr>\n",
    "\n",
    "\n",
    "# 2.  Session\n",
    "\n",
    "<p>A session allows to execute graphs or part of graphs.<br>\n",
    "It allocates resources for that and holds the actual values of intermediate results and variables.</p>\n",
    "\n",
    "<div>\n",
    "    <img src='https://www.easy-tensorflow.com/files/1_1.gif' style=\"float:left\">\n",
    "</div>\n",
    "<div style=\"clear:both\"></div>\n",
    "\n",
    "**So taht we can say that Session is a framework that combine edges and nodes.**\n",
    "<br>\n",
    "\n",
    "There is other image that show session content.\n",
    "\n",
    "<div>\n",
    "    <img src='https://miro.medium.com/max/2994/1*vPb9E0Yd1QUAD0oFmAgaOw.png' width= 500 style=\"float:left\">\n",
    "</div>\n",
    "\n",
    "<div style=\"clear:both\"></div><hr>\n",
    "\n"
   ]
  },
  {
   "cell_type": "markdown",
   "metadata": {},
   "source": [
    "# As most programming language like **C++, C#, Java, etc** we must define variable type. So let's know variable types in tensorflow.<br>"
   ]
  },
  {
   "cell_type": "markdown",
   "metadata": {},
   "source": [
    "\n",
    "Let's start with Constant type.\n",
    "\n",
    "# 3. Constants\n",
    "\n",
    "We can defiend our constants using **constant** keyword."
   ]
  },
  {
   "cell_type": "code",
   "execution_count": 1,
   "metadata": {
    "_cell_guid": "79c7e3d0-c299-4dcb-8224-4455121ee9b0",
    "_uuid": "d629ff2d2480ee46fbb7e2d37f6b5fab8052498a"
   },
   "outputs": [
    {
     "name": "stdout",
     "output_type": "stream",
     "text": [
      "tensorflow version :  2.1.0\n"
     ]
    }
   ],
   "source": [
    "#import tensorflow\n",
    "import tensorflow as tf\n",
    "\n",
    "#Becuse tensorflow 2.1.0 enable eager_execution by defulte\n",
    "#We must disable it to can use session\n",
    "#We will know about eager_execution later\n",
    "\n",
    "tf.compat.v1.disable_eager_execution()\n",
    "\n",
    "#print tensorflow version\n",
    "print(\"tensorflow version : \",tf.__version__)"
   ]
  },
  {
   "cell_type": "code",
   "execution_count": 2,
   "metadata": {},
   "outputs": [
    {
     "name": "stdout",
     "output_type": "stream",
     "text": [
      "pi =  3.14\n"
     ]
    }
   ],
   "source": [
    "#Define session \n",
    "session =  tf.compat.v1.Session()\n",
    "\n",
    "#Define pi constant = 3.14\n",
    "pi = tf.constant(3.14)\n",
    "\n",
    "#Print value of it using session\n",
    "print(\"pi = \",session.run(pi))\n",
    "\n",
    "#Close session\n",
    "session.close()"
   ]
  },
  {
   "cell_type": "markdown",
   "metadata": {},
   "source": [
    "[[[](http://)](http://)](http://)**In above code pi is a tensor of rank 0**\n",
    "<br>\n",
    "\n",
    "Let's print pi without use session for clearly understand."
   ]
  },
  {
   "cell_type": "code",
   "execution_count": 3,
   "metadata": {},
   "outputs": [
    {
     "name": "stdout",
     "output_type": "stream",
     "text": [
      "Tensor(\"Const:0\", shape=(), dtype=float32)\n"
     ]
    }
   ],
   "source": [
    "print(pi)"
   ]
  },
  {
   "cell_type": "markdown",
   "metadata": {},
   "source": [
    "An other way in this way we don't need to close a session because it defined only into [with] block \n"
   ]
  },
  {
   "cell_type": "code",
   "execution_count": 4,
   "metadata": {},
   "outputs": [
    {
     "name": "stdout",
     "output_type": "stream",
     "text": [
      "3.14\n"
     ]
    }
   ],
   "source": [
    "pi = tf.constant(3.14)\n",
    "with tf.compat.v1.Session() as sess : \n",
    "    print(sess.run(pi))\n"
   ]
  },
  {
   "cell_type": "markdown",
   "metadata": {},
   "source": [
    "Another example"
   ]
  },
  {
   "cell_type": "code",
   "execution_count": 5,
   "metadata": {},
   "outputs": [
    {
     "name": "stdout",
     "output_type": "stream",
     "text": [
      "3\n",
      "3.0\n",
      "[2 5 6 9 6]\n",
      "[[2 5 6]\n",
      " [8 5 8]\n",
      " [8 8 1]]\n",
      "b'I love TensorFlow'\n"
     ]
    }
   ],
   "source": [
    "a = tf.constant(3)\n",
    "b = tf.constant(3,tf.float32)\n",
    "c = tf.constant([2,5,6,9,6])\n",
    "d = tf.constant([[2,5,6],\n",
    "                 [8,5,8],\n",
    "                 [8,8,1]])\n",
    "e = tf.constant('I love TensorFlow')\n",
    "\n",
    "with tf.compat.v1.Session() as sess : \n",
    "    print(sess.run(a))\n",
    "    print(sess.run(b))\n",
    "    print(sess.run(c))\n",
    "    print(sess.run(d))\n",
    "    print(sess.run(e))\n"
   ]
  },
  {
   "cell_type": "markdown",
   "metadata": {},
   "source": [
    "<hr>\n",
    "\n",
    "Let's know variable type.\n",
    "# 4. Variables\n",
    "\n",
    "We can defiend our constants using **Variables** keyword.<br>\n",
    "\n",
    "We must run the below 👇 code into session before using our variable by consider that session variable name is **session**.\n",
    "<br>\n",
    "\n",
    "<code>session.run(tf.compat.v1.global_variables_initializer())</code>\n",
    "\n",
    "## Exampel 1"
   ]
  },
  {
   "cell_type": "code",
   "execution_count": 6,
   "metadata": {},
   "outputs": [
    {
     "name": "stdout",
     "output_type": "stream",
     "text": [
      "3\n",
      "3\n",
      "[2 5 6 9 6]\n",
      "[[2 5 6]\n",
      " [8 5 8]\n",
      " [8 8 1]]\n",
      "b'I love TensorFlow'\n"
     ]
    }
   ],
   "source": [
    "a = tf.Variable(3)\n",
    "b = tf.Variable(3,tf.float32)\n",
    "c = tf.Variable([2,5,6,9,6])\n",
    "d = tf.Variable([[2,5,6],[8,5,8], [8,8,1]])\n",
    "e = tf.Variable('I love TensorFlow')\n",
    "\n",
    "with tf.compat.v1.Session() as sess :\n",
    "    sess.run(tf.compat.v1.global_variables_initializer())\n",
    "    print(sess.run(a))\n",
    "    print(sess.run(b))\n",
    "    print(sess.run(c))\n",
    "    print(sess.run(d))\n",
    "    print(sess.run(e))\n"
   ]
  },
  {
   "cell_type": "markdown",
   "metadata": {},
   "source": [
    "<hr>\n",
    "\n",
    "## Exampel 2 "
   ]
  },
  {
   "cell_type": "code",
   "execution_count": 7,
   "metadata": {},
   "outputs": [
    {
     "name": "stdout",
     "output_type": "stream",
     "text": [
      "pizza price   =  45.5\n",
      "juice price   =  7.25\n",
      "tomatos price =  5\n"
     ]
    }
   ],
   "source": [
    "session = tf.compat.v1.Session()\n",
    "\n",
    "pizza = tf.Variable(45.5)\n",
    "juice = tf.Variable(7.25)\n",
    "tomatos = tf.Variable(5)\n",
    "\n",
    "session.run(tf.compat.v1.global_variables_initializer())\n",
    "\n",
    "print('pizza price   = ',session.run(pizza))\n",
    "print('juice price   = ',session.run(juice))\n",
    "print('tomatos price = ',session.run(tomatos))\n",
    "\n",
    "session.close()"
   ]
  },
  {
   "cell_type": "markdown",
   "metadata": {},
   "source": [
    "**We can change variable value by equal operator (=) or assign keyword**\n",
    "<br>\n",
    "\n",
    "## Exampel 1 "
   ]
  },
  {
   "cell_type": "code",
   "execution_count": 8,
   "metadata": {},
   "outputs": [
    {
     "name": "stdout",
     "output_type": "stream",
     "text": [
      "x before change =  5\n",
      "x after change =  10\n",
      "x after change using assign =  20\n"
     ]
    }
   ],
   "source": [
    "session = tf.compat.v1.Session()\n",
    "\n",
    "#Change variable value using = operator \n",
    "x = tf.Variable(5)\n",
    "session.run(tf.compat.v1.global_variables_initializer())\n",
    "print(\"x before change = \",session.run(x))\n",
    "\n",
    "x = tf.Variable(10)\n",
    "session.run(tf.compat.v1.global_variables_initializer())\n",
    "print(\"x after change = \",session.run(x))\n",
    "\n",
    "#Change variable value using assign keyord\n",
    "#variableName = tf.compat.v1.assign(variableName,newValue)\n",
    "\n",
    "x = tf.compat.v1.assign(x,20)\n",
    "print(\"x after change using assign = \",session.run(x))"
   ]
  },
  {
   "cell_type": "markdown",
   "metadata": {},
   "source": [
    "<hr>\n",
    "## Exampel 2 "
   ]
  },
  {
   "cell_type": "code",
   "execution_count": 9,
   "metadata": {},
   "outputs": [
    {
     "name": "stdout",
     "output_type": "stream",
     "text": [
      "x =  30\n",
      "x =  40\n",
      "x =  50\n",
      "x =  60\n",
      "x =  70\n"
     ]
    }
   ],
   "source": [
    "for i in range(5):\n",
    "    x = tf.compat.v1.assign(x,x+10)\n",
    "    print(\"x = \",session.run(x))\n",
    "    \n",
    "session.close()    "
   ]
  },
  {
   "cell_type": "markdown",
   "metadata": {},
   "source": [
    "<hr>\n",
    "# 5. Placeholders\n",
    "\n",
    "<p>\n",
    "A <b>placeholder</b> is simply a variable that we will assign data to \n",
    "at a later date.<br>It allows us to create our operations and build our computation graph, without needing the data.\n",
    "<br>\n",
    "    \n",
    "In <b>TensorFlow</b> terminology,we then feed data into the graph through these <b>placeholders.</b> \n",
    "</p>\n",
    "\n",
    "## Exampel 1 \n",
    "\n",
    "<p>\n",
    "    Assume we want to know a values of <b>C</b> for this equation \n",
    "    <code>C = 2πr</code> for this follwing values <br>For \n",
    "    <code>r = 1,2,3,4,5</code> to compute a circle perimeter for each         value of <b>r</b>.\n",
    "</p>\n",
    "\n",
    "<p>\n",
    "You can try it using <a href='https://www.google.com/search?q=circle+perimeter+equation&oq=circle+perimeter+equation&aqs=chrome..69i57j0l6.1413j0j9&sourceid=chrome&ie=UTF-8'>this link</a> \n",
    "</p>"
   ]
  },
  {
   "cell_type": "code",
   "execution_count": 10,
   "metadata": {},
   "outputs": [
    {
     "name": "stdout",
     "output_type": "stream",
     "text": [
      "[ 6.28     12.56     18.84     25.12     31.400002]\n"
     ]
    }
   ],
   "source": [
    "session = tf.compat.v1.Session()\n",
    "\n",
    "#intialize constant = 2\n",
    "two = tf.constant(2.0)\n",
    "\n",
    "#intialize constant = 3.14\n",
    "pi = tf.constant(3.14)\n",
    "\n",
    "#intialize placeholder r\n",
    "r  = tf.compat.v1.placeholder(tf.float32)\n",
    "\n",
    "#intialize two_pi variable = 2.0*3.14\n",
    "two_pi = two*pi\n",
    "\n",
    "#equation = 2πr\n",
    "c = two_pi*r\n",
    "\n",
    "#Note : we use feed_dict argument to set palceholders variables \n",
    "\n",
    "with tf.compat.v1.Session() as sess : \n",
    "    result = session.run(c , feed_dict ={r:[1,2,3,4,5]})\n",
    "    print(result)\n",
    "\n"
   ]
  },
  {
   "cell_type": "markdown",
   "metadata": {},
   "source": [
    "or Another way"
   ]
  },
  {
   "cell_type": "code",
   "execution_count": 11,
   "metadata": {},
   "outputs": [
    {
     "name": "stdout",
     "output_type": "stream",
     "text": [
      "[ 6.28     12.56     18.84     25.12     31.400002]\n"
     ]
    }
   ],
   "source": [
    "session = tf.compat.v1.Session()\n",
    "\n",
    "#intialize constant = 2\n",
    "two = tf.constant(2.0)\n",
    "\n",
    "#intialize constant = 3.14\n",
    "pi = tf.constant(3.14)\n",
    "\n",
    "#intialize placeholder r\n",
    "r  = tf.compat.v1.placeholder(tf.float32)\n",
    "\n",
    "#intialize two_pi variable = 2.0*3.14\n",
    "two_pi = two*pi\n",
    "\n",
    "#equation = 2πr\n",
    "c = two_pi*r\n",
    "\n",
    "#Note : we use feed_dict argument to set palceholders variables \n",
    "result = session.run(c, feed_dict = {r:[1,2,3,4,5]})\n",
    "print(result)\n",
    "\n",
    "session.close()"
   ]
  },
  {
   "cell_type": "markdown",
   "metadata": {},
   "source": [
    "<hr>\n",
    "\n",
    "## Exampel 2 "
   ]
  },
  {
   "cell_type": "code",
   "execution_count": 12,
   "metadata": {},
   "outputs": [
    {
     "name": "stdout",
     "output_type": "stream",
     "text": [
      "[30.  6.]\n"
     ]
    }
   ],
   "source": [
    "session = tf.compat.v1.Session()\n",
    "\n",
    "x = tf.compat.v1.placeholder(tf.float32)\n",
    "y = tf.compat.v1.placeholder(tf.float32)\n",
    "\n",
    "eq = x**2 + y**0.5 \n",
    "\n",
    "#Note : we can set palceholders variables in dictionry without use feed_dict keyword \n",
    "result = session.run(eq , {x:[5,2],y:[25,4]})\n",
    "print(result)\n",
    "\n",
    "session.close()"
   ]
  },
  {
   "cell_type": "markdown",
   "metadata": {},
   "source": [
    "<hr>\n",
    "## Exampel 3 \n",
    "\n",
    "In this exampel we will build **linear regression** equation using tensorflow. <code>equation = w.X + b</code>"
   ]
  },
  {
   "cell_type": "code",
   "execution_count": 13,
   "metadata": {},
   "outputs": [
    {
     "name": "stdout",
     "output_type": "stream",
     "text": [
      "X values :  [0, 1, 2, 3, 4, 5, 6, 7, 8, 9]\n",
      "y values :  [ 2.  7. 12. 17. 22. 27. 32. 37. 42. 47.]\n"
     ]
    },
    {
     "data": {
      "image/png": "[encoded data removed]",
      "text/plain": [
       "<Figure size 432x288 with 1 Axes>"
      ]
     },
     "metadata": {},
     "output_type": "display_data"
    }
   ],
   "source": [
    "import matplotlib.pyplot as plt\n",
    "%matplotlib inline\n",
    "session = tf.compat.v1.Session()\n",
    "\n",
    "w = tf.constant(5.0)\n",
    "X = tf.compat.v1.placeholder(tf.float32)\n",
    "b = tf.constant(2.0)\n",
    "\n",
    "y = w*X + b\n",
    "Xval = list(range(0,10))\n",
    "\n",
    "print(\"X values : \",Xval)\n",
    "\n",
    "result = session.run(y, feed_dict = {X:Xval})\n",
    "print(\"y values : \",result)\n",
    "\n",
    "plt.style.use('fivethirtyeight')\n",
    "plt.plot(Xval,result,marker='o', markersize = 7,linewidth=3)\n",
    "plt.show()\n",
    "\n",
    "session.close()"
   ]
  },
  {
   "cell_type": "markdown",
   "metadata": {},
   "source": [
    "<hr>\n",
    "# 6. Operations\n",
    "\n",
    "<p>\n",
    "    In this section we will talk about <b>Tensorflow Operations</b> <br>\n",
    "    <ul>\n",
    "        <li>add</li>\n",
    "        <li>multiply</li>\n",
    "        <li>subtract</li>\n",
    "        <li>divide</li>\n",
    "        <li>pow</li>\n",
    "        <li>matmul</li>\n",
    "        <li>matrix_transpose</li>\n",
    "    </ul>\n",
    "</p>\n",
    "\n",
    "<p>\n",
    "    Let's talk about <b>add</b> function We can use it to  <br>\n",
    "    <ul>\n",
    "        <li>Number summition</li>\n",
    "        <li>String concatination</li>\n",
    "     </ul>\n",
    "     \n",
    "</p>\n",
    "\n",
    "## Number summition<hr>\n",
    "### Exampel 1 \n",
    "    \n"
   ]
  },
  {
   "cell_type": "code",
   "execution_count": 14,
   "metadata": {},
   "outputs": [
    {
     "name": "stdout",
     "output_type": "stream",
     "text": [
      "5.0  +  10.5  =  15.5\n"
     ]
    }
   ],
   "source": [
    "session = tf.compat.v1.Session()\n",
    "\n",
    "num1 = tf.constant(5.0)\n",
    "num2 = tf.constant(10.5)\n",
    "result = tf.add(num1,num2)\n",
    "\n",
    "print(session.run(num1),' + ',session.run(num2),' = ',session.run(result))\n",
    "\n",
    "session.close()"
   ]
  },
  {
   "cell_type": "markdown",
   "metadata": {},
   "source": [
    "<hr>\n",
    "### Exampel 2 "
   ]
  },
  {
   "cell_type": "code",
   "execution_count": 15,
   "metadata": {},
   "outputs": [
    {
     "name": "stdout",
     "output_type": "stream",
     "text": [
      "5  +  [1 2 3 4 5]  =  [ 6  7  8  9 10]\n"
     ]
    }
   ],
   "source": [
    "session = tf.compat.v1.Session()\n",
    "\n",
    "num1 = tf.constant(5)\n",
    "num2 = tf.constant([1,2,3,4,5])\n",
    "result = tf.add(num1,num2)\n",
    "\n",
    "print(session.run(num1),' + ',session.run(num2),' = ',session.run(result))\n",
    "\n",
    "session.close()"
   ]
  },
  {
   "cell_type": "markdown",
   "metadata": {},
   "source": [
    "<hr>\n",
    "<div>\n",
    "    <b>Alert</b><br><br>\n",
    "    You must make sure that two numbers you will add have the same             <b>datatype</b><br>\n",
    "    If you add <code>5 + 10.5</code> you will get error because 5 is <b>int</b> but 10.5 is <b>float</b>,<br> To avoid this problem you must add <code>5.0 + 10.5</code> to get 15.5 \n",
    "</div>\n",
    "<br>\n",
    "\n",
    "## String concatination<hr>\n",
    "\n",
    "### Exampel 1 "
   ]
  },
  {
   "cell_type": "code",
   "execution_count": 16,
   "metadata": {},
   "outputs": [
    {
     "name": "stdout",
     "output_type": "stream",
     "text": [
      "b'Hellow'  +  b' World'  =  b'Hellow World'\n"
     ]
    }
   ],
   "source": [
    "session = tf.compat.v1.Session()\n",
    "\n",
    "str1 = tf.constant('Hellow')\n",
    "str2 = tf.constant(' World')\n",
    "result = tf.add(str1,str2)\n",
    "\n",
    "print(session.run(str1),' + ',session.run(str2),' = ',session.run(result))\n",
    "\n",
    "session.close()"
   ]
  },
  {
   "cell_type": "markdown",
   "metadata": {},
   "source": [
    "<hr>\n",
    "\n",
    "### Exampel 2 "
   ]
  },
  {
   "cell_type": "code",
   "execution_count": 17,
   "metadata": {},
   "outputs": [
    {
     "name": "stdout",
     "output_type": "stream",
     "text": [
      "b'Hellow'  +  [b' World' b' Python' b' Machine Learning']  =  [b'Hellow World' b'Hellow Python' b'Hellow Machine Learning']\n"
     ]
    }
   ],
   "source": [
    "session = tf.compat.v1.Session()\n",
    "\n",
    "str1 = tf.constant('Hellow')\n",
    "str2 = tf.constant([' World',' Python',' Machine Learning'])\n",
    "result = tf.add(str1,str2)\n",
    "\n",
    "print(session.run(str1),' + ',session.run(str2),' = ',session.run(result))\n",
    "\n",
    "session.close()"
   ]
  },
  {
   "cell_type": "markdown",
   "metadata": {},
   "source": [
    "\n",
    "<p>\n",
    "    Let's talk about <b>multiply</b> function We can use it to  <b>Number multiplication.</b>\n",
    "</p>\n",
    "\n",
    "## Number multiplication<hr>\n",
    "\n",
    "### Exampel 1 "
   ]
  },
  {
   "cell_type": "code",
   "execution_count": 18,
   "metadata": {},
   "outputs": [
    {
     "name": "stdout",
     "output_type": "stream",
     "text": [
      "5  x  10  =  50\n"
     ]
    }
   ],
   "source": [
    "session = tf.compat.v1.Session()\n",
    "\n",
    "num1 = tf.constant(5)\n",
    "num2 = tf.constant(10)\n",
    "result = tf.multiply(num1,num2)\n",
    "\n",
    "print(session.run(num1),' x ',session.run(num2),' = ',session.run(result))\n",
    "\n",
    "session.close()"
   ]
  },
  {
   "cell_type": "markdown",
   "metadata": {},
   "source": [
    "<hr>\n",
    "\n",
    "### Exampel 2 "
   ]
  },
  {
   "cell_type": "code",
   "execution_count": 19,
   "metadata": {},
   "outputs": [
    {
     "name": "stdout",
     "output_type": "stream",
     "text": [
      "-5.25  x  10.15  =  -53.2875\n"
     ]
    }
   ],
   "source": [
    "session = tf.compat.v1.Session()\n",
    "\n",
    "num1 = tf.constant(-5.25)\n",
    "num2 = tf.constant(10.15)\n",
    "result = tf.multiply(num1,num2)\n",
    "\n",
    "print(session.run(num1),' x ',session.run(num2),' = ',session.run(result))\n",
    "\n",
    "session.close()"
   ]
  },
  {
   "cell_type": "markdown",
   "metadata": {},
   "source": [
    "<hr>\n",
    "\n",
    "<div>\n",
    "    🔺 <b>Alert</b><br><br>\n",
    "    <b>datatype equavilant</b> which we talk about it at previous             <b>alert</b> ☝ has same importance in <b>multiplication</b>.\n",
    "</div>\n",
    "\n",
    "\n",
    "<p>\n",
    "    Let's talk about <b>subtract</b> function We can use it to <b>Number subtraction.</b>\n",
    "</p>\n",
    "\n",
    "## Number subtraction<hr>\n",
    "\n",
    "### Exampel 1 "
   ]
  },
  {
   "cell_type": "code",
   "execution_count": 20,
   "metadata": {},
   "outputs": [
    {
     "name": "stdout",
     "output_type": "stream",
     "text": [
      "5  -  10  =  -5\n"
     ]
    }
   ],
   "source": [
    "session = tf.compat.v1.Session()\n",
    "\n",
    "num1 = tf.constant(5)\n",
    "num2 = tf.constant(10)\n",
    "result = tf.subtract(num1,num2)\n",
    "\n",
    "print(session.run(num1),' - ',session.run(num2),' = ',session.run(result))\n",
    "\n",
    "session.close()"
   ]
  },
  {
   "cell_type": "markdown",
   "metadata": {},
   "source": [
    "<hr>\n",
    "\n",
    "### Exampel 2 "
   ]
  },
  {
   "cell_type": "code",
   "execution_count": 21,
   "metadata": {},
   "outputs": [
    {
     "name": "stdout",
     "output_type": "stream",
     "text": [
      "-5.25  x  10.15  =  -53.2875\n"
     ]
    }
   ],
   "source": [
    "session = tf.compat.v1.Session()\n",
    "\n",
    "num1 = tf.constant(-5.25)\n",
    "num2 = tf.constant(10.15)\n",
    "result = tf.multiply(num1,num2)\n",
    "\n",
    "print(session.run(num1),' x ',session.run(num2),' = ',session.run(result))\n",
    "\n",
    "session.close()"
   ]
  },
  {
   "cell_type": "markdown",
   "metadata": {},
   "source": [
    "<hr>[](http://)\n",
    "\n",
    "<div>\n",
    "    🔺 <b>Alert</b><br><br>\n",
    "    <b>datatype equavilant</b> which we talk about it at first             <b>alert</b> ☝ has same importance in <b>subtraction</b>.\n",
    "</div>\n",
    "\n",
    "<p>\n",
    "    Let's talk about <b>divide</b> function We can use it to  <b>Number dividation.</b>\n",
    "</p>\n",
    "\n",
    "## Number dividation<hr>\n",
    "\n",
    "### Exampel 1 "
   ]
  },
  {
   "cell_type": "code",
   "execution_count": 22,
   "metadata": {},
   "outputs": [
    {
     "name": "stdout",
     "output_type": "stream",
     "text": [
      "25  /  10  =  2.5\n"
     ]
    }
   ],
   "source": [
    "session = tf.compat.v1.Session()\n",
    "\n",
    "num1 = tf.constant(25)\n",
    "num2 = tf.constant(10)\n",
    "result = tf.divide(num1,num2)\n",
    "\n",
    "print(session.run(num1),' / ',session.run(num2),' = ',session.run(result))\n",
    "\n",
    "session.close()"
   ]
  },
  {
   "cell_type": "markdown",
   "metadata": {},
   "source": [
    "<hr>\n",
    "### Exampel 2 "
   ]
  },
  {
   "cell_type": "code",
   "execution_count": 23,
   "metadata": {},
   "outputs": [
    {
     "name": "stdout",
     "output_type": "stream",
     "text": [
      "-25.25  /  10.0  =  -2.525\n"
     ]
    }
   ],
   "source": [
    "session = tf.compat.v1.Session()\n",
    "\n",
    "num1 = tf.constant(-25.25)\n",
    "num2 = tf.constant(10.0)\n",
    "result = tf.divide(num1,num2)\n",
    "\n",
    "print(session.run(num1),' / ',session.run(num2),' = ',session.run(result))\n",
    "\n",
    "session.close()"
   ]
  },
  {
   "cell_type": "markdown",
   "metadata": {},
   "source": [
    "<hr>\n",
    "\n",
    "<div>\n",
    "    🔺 <b>Alert</b><br><br>\n",
    "    <b>datatype equavilant</b> which we talk about it at first             <b>alert</b> ☝ has same importance in <b>dividation</b>.\n",
    "</div>\n",
    "\n",
    "\n",
    "<p>\n",
    "    Let's talk about <b>pow</b> function We can use it to  get a value of <b>x<sup>y</sup>.</b>\n",
    "</p>\n",
    "\n",
    "<h3>x<sup>y</sup></h3><hr>\n",
    "\n",
    "### Exampel 1 "
   ]
  },
  {
   "cell_type": "code",
   "execution_count": 24,
   "metadata": {},
   "outputs": [
    {
     "name": "stdout",
     "output_type": "stream",
     "text": [
      "2 ^ 10  =  1024\n"
     ]
    }
   ],
   "source": [
    "session = tf.compat.v1.Session()\n",
    "\n",
    "num1 = tf.constant(2)\n",
    "num2 = tf.constant(10)\n",
    "result = tf.pow(num1,num2)\n",
    "\n",
    "print(session.run(num1),'^',session.run(num2),' = ',session.run(result))\n",
    "\n",
    "session.close()"
   ]
  },
  {
   "cell_type": "markdown",
   "metadata": {},
   "source": [
    "1. <hr>\n",
    "1. ### Exampel 2 "
   ]
  },
  {
   "cell_type": "code",
   "execution_count": 25,
   "metadata": {},
   "outputs": [
    {
     "name": "stdout",
     "output_type": "stream",
     "text": [
      "-5.0 ^ 3.0  =  -125.0\n"
     ]
    }
   ],
   "source": [
    "session = tf.compat.v1.Session()\n",
    "\n",
    "num1 = tf.constant(-5.0)\n",
    "num2 = tf.constant(3.0)\n",
    "result = tf.pow(num1,num2)\n",
    "\n",
    "print(session.run(num1),'^',session.run(num2),' = ',session.run(result))\n",
    "\n",
    "session.close()"
   ]
  },
  {
   "cell_type": "markdown",
   "metadata": {},
   "source": [
    "<hr>\n",
    "<div>\n",
    "    🔺 <b>Alert</b><br><br>\n",
    "    <b>datatype equavilant</b> which we talk about it at first             <b>alert</b> ☝ has same importance when we use <b>pow</b> function.\n",
    "</div>\n",
    "\n",
    "\n",
    "<p>\n",
    "    Let's talk about <b>matmul</b> function  We can use it to   get a value of <b>Matrix multiplication.</b>\n",
    "</p>\n",
    "\n",
    "## Matrix multiplication [......] x [......]\n",
    "<hr>\n",
    "\n",
    "### Exampel 1 "
   ]
  },
  {
   "cell_type": "code",
   "execution_count": 26,
   "metadata": {},
   "outputs": [
    {
     "name": "stdout",
     "output_type": "stream",
     "text": [
      "[[1. 2. 3.]\n",
      " [4. 5. 6.]\n",
      " [7. 8. 9.]]\n",
      "x\n",
      "[[1. 2.]\n",
      " [3. 4.]\n",
      " [5. 6.]]\n",
      "=\n",
      "[[ 22.  28.]\n",
      " [ 49.  64.]\n",
      " [ 76. 100.]]\n"
     ]
    }
   ],
   "source": [
    "session = tf.compat.v1.Session()\n",
    "\n",
    "# matrix size = 3x3\n",
    "matrix1 = tf.constant([[1.0,2.0,3.0],\n",
    "                       [4.0,5.0,6.0],\n",
    "                       [7.0,8.0,9.0]])\n",
    "# matrix size = 3x2\n",
    "matrix2 = tf.constant([[1.0,2.0],\n",
    "                       [3.0,4.0],\n",
    "                       [5.0,6.0]])\n",
    "\n",
    "# result will be matrix has size = 3x2\n",
    "result = tf.matmul(matrix1,matrix2)\n",
    "\n",
    "print(session.run(matrix1))\n",
    "print('x')\n",
    "print(session.run(matrix2))\n",
    "print('=')\n",
    "print(session.run(result))\n",
    "\n",
    "session.close()"
   ]
  },
  {
   "cell_type": "markdown",
   "metadata": {},
   "source": [
    "<hr>\n",
    "### Exampel 2 "
   ]
  },
  {
   "cell_type": "code",
   "execution_count": 27,
   "metadata": {},
   "outputs": [
    {
     "name": "stdout",
     "output_type": "stream",
     "text": [
      "[[1.04  2.2   3.4  ]\n",
      " [4.1   5.01  6.2  ]\n",
      " [7.051 8.    9.1  ]]\n",
      "x\n",
      "[[1. 2.]\n",
      " [3. 4.]\n",
      " [5. 6.]]\n",
      "=\n",
      "[[ 24.640001  31.28    ]\n",
      " [ 50.13      65.44    ]\n",
      " [ 76.551    100.702   ]]\n"
     ]
    }
   ],
   "source": [
    "session = tf.compat.v1.Session()\n",
    "\n",
    "# matrix size = 3x3\n",
    "matrix1 = tf.constant([[1.04,2.20,3.40],\n",
    "                       [4.10,5.01,6.20],\n",
    "                       [7.051,8.0,9.10]])\n",
    "# matrix size = 3x2\n",
    "matrix2 = tf.constant([[1,2],\n",
    "                       [3,4.0],\n",
    "                       [5,6]])\n",
    "\n",
    "# result will be matrix has size = 3x2\n",
    "result = tf.matmul(matrix1,matrix2)\n",
    "\n",
    "print(session.run(matrix1))\n",
    "print('x')\n",
    "print(session.run(matrix2))\n",
    "print('=')\n",
    "print(session.run(result))\n",
    "\n",
    "session.close()"
   ]
  },
  {
   "cell_type": "markdown",
   "metadata": {},
   "source": [
    "<hr>\n",
    "<div>\n",
    "    🔺 <b>Alert</b><br><br>\n",
    "    <b>datatype equavilant</b> which we talk about it at first                 <b>alert</b> ☝ has same importance when we use <b>matmul</b> function.\n",
    "    But ✋ you must know following two case <br> \n",
    "    <ol>\n",
    "        <li>one matrix has compination datatype as float and int</li>\n",
    "        <li>one matrix has same datatype as float or int</li>\n",
    "    </ol>\n",
    "    At first case if this matrix multiplay by other matrix has same           datatype as float or int you will not have error.<br><br>\n",
    "    This we see it in <b>Exampel 2</b> when first matrix has same float       datatype and second has compination float at 4.0 and int at other numbers.\n",
    "    <br><br>\n",
    "    At second case if this matrix multiplay by other matrix has same           datatype and this datatype different from datatype of it you will get     error.\n",
    "    <br><br>\n",
    "    You can try this case at <b>Exampel 2</b> by change 4.0 at second         matrix which stored in <b>matrix2</b> constant to 4.  \n",
    "    \n",
    "</div>\n",
    "\n",
    "\n",
    "\n",
    "<p>\n",
    "    Let's talk about <b>matrix_transpose</b> function  We can use it to     get a value of <b>Matrix transport.</b>\n",
    "</p>\n",
    "<h2>Matrix transport [......] <sup>T</sup></h2>\n",
    "<hr>\n",
    "\n",
    "### Exampel 👇"
   ]
  },
  {
   "cell_type": "code",
   "execution_count": 28,
   "metadata": {},
   "outputs": [
    {
     "name": "stdout",
     "output_type": "stream",
     "text": [
      "original matrix\n",
      "[[1. 2. 3.]\n",
      " [4. 5. 6.]\n",
      " [7. 8. 9.]]\n",
      "-------------------------------\n",
      "transport matrix\n",
      "[[1. 4. 7.]\n",
      " [2. 5. 8.]\n",
      " [3. 6. 9.]]\n",
      "-------------------------------\n",
      "original matrix x transport matrix : \n",
      "[[ 14.  32.  50.]\n",
      " [ 32.  77. 122.]\n",
      " [ 50. 122. 194.]]\n"
     ]
    }
   ],
   "source": [
    "session = tf.compat.v1.Session()\n",
    "\n",
    "# matrix size = 3x3\n",
    "matrix = tf.constant([[1.0,2.0,3.0],\n",
    "                       [4.0,5.0,6.0],\n",
    "                       [7.0,8.0,9.0]])\n",
    "# matrix size = 3x3\n",
    "matrixTransport = tf.compat.v1.matrix_transpose(matrix)\n",
    "\n",
    "# result will be matrix has size = 3x3\n",
    "result = tf.matmul(matrix,matrixTransport)\n",
    "\n",
    "print('original matrix')\n",
    "print(session.run(matrix))\n",
    "print('-------------------------------')\n",
    "\n",
    "print('transport matrix')\n",
    "print(session.run(matrixTransport))\n",
    "print('-------------------------------')\n",
    "\n",
    "print('original matrix x transport matrix : ')\n",
    "print(session.run(result))\n",
    "\n",
    "session.close()"
   ]
  },
  {
   "cell_type": "markdown",
   "metadata": {},
   "source": [
    "<hr>\n",
    "\n",
    "# 7. Graph\n",
    "\n",
    "<p>\n",
    "    We can consider <b>graph</b> as a history that contain all operations\n",
    "    we do it through our code.\n",
    "</p>"
   ]
  },
  {
   "cell_type": "code",
   "execution_count": 29,
   "metadata": {},
   "outputs": [
    {
     "name": "stdout",
     "output_type": "stream",
     "text": [
      "Const\n",
      "Const_1\n",
      "Const_2\n",
      "Const_3\n",
      "Const_4\n",
      "Const_5\n",
      "Const_6\n",
      "Variable/Initializer/initial_value\n",
      "Variable\n",
      "Variable/IsInitialized/VarIsInitializedOp\n",
      "Variable/Assign\n",
      "Variable/Read/ReadVariableOp\n",
      "Variable_1/Initializer/initial_value\n",
      "Variable_1\n",
      "Variable_1/IsInitialized/VarIsInitializedOp\n",
      "Variable_1/Assign\n",
      "Variable_1/Read/ReadVariableOp\n",
      "Variable_2/Initializer/initial_value\n",
      "Variable_2\n",
      "Variable_2/IsInitialized/VarIsInitializedOp\n",
      "Variable_2/Assign\n",
      "Variable_2/Read/ReadVariableOp\n",
      "Variable_3/Initializer/initial_value\n",
      "Variable_3\n",
      "Variable_3/IsInitialized/VarIsInitializedOp\n",
      "Variable_3/Assign\n",
      "Variable_3/Read/ReadVariableOp\n",
      "Variable_4/Initializer/initial_value\n",
      "Variable_4\n",
      "Variable_4/IsInitialized/VarIsInitializedOp\n",
      "Variable_4/Assign\n",
      "Variable_4/Read/ReadVariableOp\n",
      "init\n",
      "Variable_5/Initializer/initial_value\n",
      "Variable_5\n",
      "Variable_5/IsInitialized/VarIsInitializedOp\n",
      "Variable_5/Assign\n",
      "Variable_5/Read/ReadVariableOp\n",
      "Variable_6/Initializer/initial_value\n",
      "Variable_6\n",
      "Variable_6/IsInitialized/VarIsInitializedOp\n",
      "Variable_6/Assign\n",
      "Variable_6/Read/ReadVariableOp\n",
      "Variable_7/Initializer/initial_value\n",
      "Variable_7\n",
      "Variable_7/IsInitialized/VarIsInitializedOp\n",
      "Variable_7/Assign\n",
      "Variable_7/Read/ReadVariableOp\n",
      "init_1\n",
      "Variable_8/Initializer/initial_value\n",
      "Variable_8\n",
      "Variable_8/IsInitialized/VarIsInitializedOp\n",
      "Variable_8/Assign\n",
      "Variable_8/Read/ReadVariableOp\n",
      "init_2\n",
      "Variable_9/Initializer/initial_value\n",
      "Variable_9\n",
      "Variable_9/IsInitialized/VarIsInitializedOp\n",
      "Variable_9/Assign\n",
      "Variable_9/Read/ReadVariableOp\n",
      "init_3\n",
      "Const_7\n",
      "AssignVariableOp\n",
      "ReadVariableOp\n",
      "ReadVariableOp_1\n",
      "add/y\n",
      "add\n",
      "AssignVariableOp_1\n",
      "ReadVariableOp_2\n",
      "ReadVariableOp_3\n",
      "add_1/y\n",
      "add_1\n",
      "AssignVariableOp_2\n",
      "ReadVariableOp_4\n",
      "ReadVariableOp_5\n",
      "add_2/y\n",
      "add_2\n",
      "AssignVariableOp_3\n",
      "ReadVariableOp_6\n",
      "ReadVariableOp_7\n",
      "add_3/y\n",
      "add_3\n",
      "AssignVariableOp_4\n",
      "ReadVariableOp_8\n",
      "ReadVariableOp_9\n",
      "add_4/y\n",
      "add_4\n",
      "AssignVariableOp_5\n",
      "ReadVariableOp_10\n",
      "Const_8\n",
      "Const_9\n",
      "Placeholder\n",
      "mul\n",
      "mul_1\n",
      "Const_10\n",
      "Const_11\n",
      "Placeholder_1\n",
      "mul_2\n",
      "mul_3\n",
      "Placeholder_2\n",
      "Placeholder_3\n",
      "pow/y\n",
      "pow\n",
      "pow_1/y\n",
      "pow_1\n",
      "add_5\n",
      "Const_12\n",
      "Placeholder_4\n",
      "Const_13\n",
      "mul_4\n",
      "add_6\n",
      "Const_14\n",
      "Const_15\n",
      "Add_7\n",
      "Const_16\n",
      "Const_17\n",
      "Add_8\n",
      "Const_18\n",
      "Const_19\n",
      "Add_9\n",
      "Const_20\n",
      "Const_21\n",
      "Add_10\n",
      "Const_22\n",
      "Const_23\n",
      "Mul_5\n",
      "Const_24\n",
      "Const_25\n",
      "Mul_6\n",
      "Const_26\n",
      "Const_27\n",
      "Sub\n",
      "Const_28\n",
      "Const_29\n",
      "Mul_7\n",
      "Const_30\n",
      "Const_31\n",
      "truediv/Cast\n",
      "truediv/Cast_1\n",
      "truediv\n",
      "Const_32\n",
      "Const_33\n",
      "truediv_1\n",
      "Const_34\n",
      "Const_35\n",
      "Pow_2\n",
      "Const_36\n",
      "Const_37\n",
      "Pow_3\n",
      "Const_38\n",
      "Const_39\n",
      "MatMul\n",
      "Const_40\n",
      "Const_41\n",
      "MatMul_1\n",
      "Const_42\n",
      "matrix_transpose/transpose/perm\n",
      "matrix_transpose/transpose\n",
      "MatMul_2\n"
     ]
    }
   ],
   "source": [
    "graph = tf.compat.v1.get_default_graph()\n",
    "for operation in graph.get_operations():\n",
    "    print(operation.name)"
   ]
  },
  {
   "cell_type": "markdown",
   "metadata": {},
   "source": [
    "<hr>\n",
    "\n",
    "<div>\n",
    "    🎁 <b>Congratulations</b> 😊<br><br>\n",
    "    Now we finish <b>Tensorflow basics</b> and we will know more about <b>Tensorflow Framework</b> in other kernels.<br>\n",
    "    Good luck 👍\n",
    "</div>\n",
    "\n",
    "<br>\n",
    "\n",
    "<h1>Please If you find this kernel useful, upvote it to help others see it 😊</h1>"
   ]
  },
  {
   "cell_type": "code",
   "execution_count": null,
   "metadata": {},
   "outputs": [],
   "source": []
  }
 ],
 "metadata": {
  "kernelspec": {
   "display_name": "Python 3",
   "language": "python",
   "name": "python3"
  },
  "language_info": {
   "codemirror_mode": {
    "name": "ipython",
    "version": 3
   },
   "file_extension": ".py",
   "mimetype": "text/x-python",
   "name": "python",
   "nbconvert_exporter": "python",
   "pygments_lexer": "ipython3",
   "version": "3.7.6"
  }
 },
 "nbformat": 4,
 "nbformat_minor": 4
}
